{
  "nbformat": 4,
  "nbformat_minor": 0,
  "metadata": {
    "kernelspec": {
      "display_name": "Python 3",
      "language": "python",
      "name": "python3"
    },
    "language_info": {
      "codemirror_mode": {
        "name": "ipython",
        "version": 3
      },
      "file_extension": ".py",
      "mimetype": "text/x-python",
      "name": "python",
      "nbconvert_exporter": "python",
      "pygments_lexer": "ipython3",
      "version": "3.5.2"
    },
    "colab": {
      "name": "svm_for_mnist.ipynb",
      "provenance": []
    }
  },
  "cells": [
    {
      "cell_type": "code",
      "metadata": {
        "id": "HU16vt6xEqo9"
      },
      "source": [
        "import os\n",
        "from sklearn.svm import SVC\n",
        "from sklearn.model_selection import train_test_split\n",
        "from sklearn.ensemble import BaggingClassifier\n",
        "from sklearn.preprocessing import StandardScaler\n",
        "import pandas as pd\n",
        "import numpy as np\n",
        "from matplotlib import pyplot as plt, transforms\n",
        "import seaborn as sns"
      ],
      "execution_count": null,
      "outputs": []
    },
    {
      "cell_type": "code",
      "metadata": {
        "id": "ec9iwT7iEqo-"
      },
      "source": [
        "data = pd.read_csv('train.csv')\n",
        "y = data['label']\n",
        "X = data.drop('label', axis=1)\n",
        "del data"
      ],
      "execution_count": null,
      "outputs": []
    },
    {
      "cell_type": "markdown",
      "metadata": {
        "id": "KmfqYiHwEqo-"
      },
      "source": [
        "# Running an SVM classifier on our given data"
      ]
    },
    {
      "cell_type": "code",
      "metadata": {
        "id": "EDMuDFrJEqo_",
        "outputId": "fd8945e2-22e5-4e74-efd0-b1f4dd58d3d1"
      },
      "source": [
        "%%time\n",
        "\n",
        "X_train, X_test, y_train, y_test = train_test_split(X, y, test_size=0.1, random_state=20, stratify=y)\n",
        "\n",
        "# svm_classifier = BaggingClassifier(base_estimator=SVC(), n_estimators=4, max_samples=5000, bootstrap=False, n_jobs=-1)\n",
        "svm_classifier = SVC(kernel='linear', max_iter=4215)\n",
        "svm_classifier.fit(X_train.iloc[:4000], y_train[:4000])"
      ],
      "execution_count": null,
      "outputs": [
        {
          "name": "stdout",
          "output_type": "stream",
          "text": [
            "[LibSVM]CPU times: user 4.62 s, sys: 83.9 ms, total: 4.7 s\n",
            "Wall time: 4.71 s\n"
          ]
        }
      ]
    },
    {
      "cell_type": "code",
      "metadata": {
        "scrolled": true,
        "id": "K4GoYAeoEqo_",
        "outputId": "4ba24a5f-f296-448b-cc88-1f591c861947"
      },
      "source": [
        "svm_classifier.coef_.shape"
      ],
      "execution_count": null,
      "outputs": [
        {
          "data": {
            "text/plain": [
              "(45, 784)"
            ]
          },
          "execution_count": 11,
          "metadata": {},
          "output_type": "execute_result"
        }
      ]
    },
    {
      "cell_type": "code",
      "metadata": {
        "id": "B8a9gBmuEqpA",
        "outputId": "b8387175-dcab-4fe5-9a21-10da072e624f"
      },
      "source": [
        "svm_classifier.score(X_test, y_test)"
      ],
      "execution_count": null,
      "outputs": [
        {
          "data": {
            "text/plain": [
              "0.9078571428571428"
            ]
          },
          "execution_count": 5,
          "metadata": {},
          "output_type": "execute_result"
        }
      ]
    },
    {
      "cell_type": "code",
      "metadata": {
        "id": "cHSw_2GTEqpA"
      },
      "source": [
        "del X, y"
      ],
      "execution_count": null,
      "outputs": []
    },
    {
      "cell_type": "markdown",
      "metadata": {
        "id": "zmKH-7l3EqpA"
      },
      "source": [
        "# IRIS"
      ]
    },
    {
      "cell_type": "code",
      "metadata": {
        "id": "iH_ZN3EqEqpA",
        "outputId": "4c40492c-d7db-4b9b-b980-f2445bd89852"
      },
      "source": [
        "data = pd.read_csv(\"Iris.csv\").drop('Id', axis=1)\n",
        "print(data.info())\n",
        "y = data['Species']\n",
        "X = data.drop('Species', axis=1)\n",
        "print()\n",
        "print(X.shape, y.shape)\n",
        "print(y.value_counts())\n",
        "X.head()"
      ],
      "execution_count": null,
      "outputs": [
        {
          "name": "stdout",
          "output_type": "stream",
          "text": [
            "<class 'pandas.core.frame.DataFrame'>\n",
            "RangeIndex: 150 entries, 0 to 149\n",
            "Data columns (total 5 columns):\n",
            "SepalLengthCm    150 non-null float64\n",
            "SepalWidthCm     150 non-null float64\n",
            "PetalLengthCm    150 non-null float64\n",
            "PetalWidthCm     150 non-null float64\n",
            "Species          150 non-null object\n",
            "dtypes: float64(4), object(1)\n",
            "memory usage: 5.9+ KB\n",
            "None\n",
            "\n",
            "(150, 4) (150,)\n",
            "Iris-versicolor    50\n",
            "Iris-virginica     50\n",
            "Iris-setosa        50\n",
            "Name: Species, dtype: int64\n"
          ]
        },
        {
          "data": {
            "text/html": [
              "<div>\n",
              "<style scoped>\n",
              "    .dataframe tbody tr th:only-of-type {\n",
              "        vertical-align: middle;\n",
              "    }\n",
              "\n",
              "    .dataframe tbody tr th {\n",
              "        vertical-align: top;\n",
              "    }\n",
              "\n",
              "    .dataframe thead th {\n",
              "        text-align: right;\n",
              "    }\n",
              "</style>\n",
              "<table border=\"1\" class=\"dataframe\">\n",
              "  <thead>\n",
              "    <tr style=\"text-align: right;\">\n",
              "      <th></th>\n",
              "      <th>SepalLengthCm</th>\n",
              "      <th>SepalWidthCm</th>\n",
              "      <th>PetalLengthCm</th>\n",
              "      <th>PetalWidthCm</th>\n",
              "    </tr>\n",
              "  </thead>\n",
              "  <tbody>\n",
              "    <tr>\n",
              "      <th>0</th>\n",
              "      <td>5.1</td>\n",
              "      <td>3.5</td>\n",
              "      <td>1.4</td>\n",
              "      <td>0.2</td>\n",
              "    </tr>\n",
              "    <tr>\n",
              "      <th>1</th>\n",
              "      <td>4.9</td>\n",
              "      <td>3.0</td>\n",
              "      <td>1.4</td>\n",
              "      <td>0.2</td>\n",
              "    </tr>\n",
              "    <tr>\n",
              "      <th>2</th>\n",
              "      <td>4.7</td>\n",
              "      <td>3.2</td>\n",
              "      <td>1.3</td>\n",
              "      <td>0.2</td>\n",
              "    </tr>\n",
              "    <tr>\n",
              "      <th>3</th>\n",
              "      <td>4.6</td>\n",
              "      <td>3.1</td>\n",
              "      <td>1.5</td>\n",
              "      <td>0.2</td>\n",
              "    </tr>\n",
              "    <tr>\n",
              "      <th>4</th>\n",
              "      <td>5.0</td>\n",
              "      <td>3.6</td>\n",
              "      <td>1.4</td>\n",
              "      <td>0.2</td>\n",
              "    </tr>\n",
              "  </tbody>\n",
              "</table>\n",
              "</div>"
            ],
            "text/plain": [
              "   SepalLengthCm  SepalWidthCm  PetalLengthCm  PetalWidthCm\n",
              "0            5.1           3.5            1.4           0.2\n",
              "1            4.9           3.0            1.4           0.2\n",
              "2            4.7           3.2            1.3           0.2\n",
              "3            4.6           3.1            1.5           0.2\n",
              "4            5.0           3.6            1.4           0.2"
            ]
          },
          "execution_count": 10,
          "metadata": {},
          "output_type": "execute_result"
        }
      ]
    },
    {
      "cell_type": "code",
      "metadata": {
        "id": "5jaDwngqEqpA"
      },
      "source": [
        "#split\n",
        "X_train, X_test, y_train, y_test = train_test_split(X, y, test_size=0.1, random_state=20, stratify=y)"
      ],
      "execution_count": null,
      "outputs": []
    },
    {
      "cell_type": "code",
      "metadata": {
        "id": "TBSTYWVDEqpB",
        "outputId": "f4c4bcbf-8c4a-440e-83dd-dcc7ef0b066f"
      },
      "source": [
        "estimators = [SVC(kernel='poly', degree=i) for i in range(10)]\n",
        "for model in estimators:\n",
        "    print(\"degree=\", model.degree, \"| accuracy=\", model.fit(X_train, y_train).score(X_test, y_test))"
      ],
      "execution_count": null,
      "outputs": [
        {
          "name": "stdout",
          "output_type": "stream",
          "text": [
            "degree= 0 | accuracy= 0.3333333333333333\n",
            "degree= 1 | accuracy= 0.9333333333333333\n",
            "degree= 2 | accuracy= 1.0\n",
            "degree= 3 | accuracy= 1.0\n",
            "degree= 4 | accuracy= 1.0\n",
            "degree= 5 | accuracy= 1.0\n",
            "degree= 6 | accuracy= 1.0\n",
            "degree= 7 | accuracy= 1.0\n",
            "degree= 8 | accuracy= 1.0\n",
            "degree= 9 | accuracy= 1.0\n"
          ]
        }
      ]
    },
    {
      "cell_type": "code",
      "metadata": {
        "id": "ksUvcWydEqpB"
      },
      "source": [
        "estimators = [SVC(kernel='rbf', gamma=i) for i in np.linspace(0.01, 500, 5000)]\n",
        "gamma = []\n",
        "accuracy = []\n",
        "for model in estimators:\n",
        "    gamma.append(model.gamma)\n",
        "    accuracy.append(model.fit(X_train, y_train).score(X_test, y_test))\n",
        "#     print(\"degree=\", model.gamma, \"| accuracy=\", model.fit(X_train, y_train).score(X_test, y_test))"
      ],
      "execution_count": null,
      "outputs": []
    },
    {
      "cell_type": "code",
      "metadata": {
        "id": "Vmx4qw0kEqpB",
        "outputId": "d2e08e26-09b6-4af8-bf86-b331326691c4"
      },
      "source": [
        "sns.lineplot(y='Accuracy', x='Gamma', data=pd.DataFrame({'Accuracy': accuracy, 'Gamma': gammaa})).set_title('Effect of gamma on performance').set_x\n",
        "# plt.show()\n",
        "plt.savefig(\"gamma effects\")"
      ],
      "execution_count": null,
      "outputs": [
        {
          "data": {
            "image/png": "[encoded data removed]",
            "text/plain": [
              "<Figure size 432x288 with 1 Axes>"
            ]
          },
          "metadata": {},
          "output_type": "display_data"
        }
      ]
    },
    {
      "cell_type": "code",
      "metadata": {
        "id": "l7VWo50sEqpB",
        "outputId": "97cd6c34-9cb5-4f44-f74f-cced16162bf0"
      },
      "source": [
        "for i in range(500):\n",
        "    print(gamma[i], '\\t\\t\\t', accuracy[i])"
      ],
      "execution_count": null,
      "outputs": [
        {
          "name": "stdout",
          "output_type": "stream",
          "text": [
            "0.01 \t\t\t 0.9333333333333333\n",
            "0.11001800360072014 \t\t\t 0.9333333333333333\n",
            "0.2100360072014403 \t\t\t 1.0\n",
            "0.31005401080216044 \t\t\t 1.0\n",
            "0.4100720144028806 \t\t\t 0.9333333333333333\n",
            "0.5100900180036008 \t\t\t 0.9333333333333333\n",
            "0.6101080216043209 \t\t\t 0.9333333333333333\n",
            "0.7101260252050411 \t\t\t 1.0\n",
            "0.8101440288057612 \t\t\t 1.0\n",
            "0.9101620324064813 \t\t\t 1.0\n",
            "1.0101800360072015 \t\t\t 1.0\n",
            "1.1101980396079216 \t\t\t 1.0\n",
            "1.2102160432086417 \t\t\t 1.0\n",
            "1.3102340468093618 \t\t\t 1.0\n",
            "1.4102520504100822 \t\t\t 1.0\n",
            "1.5102700540108023 \t\t\t 1.0\n",
            "1.6102880576115224 \t\t\t 1.0\n",
            "1.7103060612122425 \t\t\t 1.0\n",
            "1.8103240648129626 \t\t\t 1.0\n",
            "1.910342068413683 \t\t\t 1.0\n",
            "2.010360072014403 \t\t\t 1.0\n",
            "2.110378075615123 \t\t\t 1.0\n",
            "2.210396079215843 \t\t\t 1.0\n",
            "2.310414082816563 \t\t\t 1.0\n",
            "2.4104320864172832 \t\t\t 1.0\n",
            "2.5104500900180033 \t\t\t 1.0\n",
            "2.6104680936187235 \t\t\t 1.0\n",
            "2.710486097219444 \t\t\t 1.0\n",
            "2.810504100820164 \t\t\t 1.0\n",
            "2.910522104420884 \t\t\t 1.0\n",
            "3.0105401080216043 \t\t\t 1.0\n",
            "3.1105581116223244 \t\t\t 1.0\n",
            "3.2105761152230445 \t\t\t 1.0\n",
            "3.3105941188237646 \t\t\t 1.0\n",
            "3.4106121224244847 \t\t\t 1.0\n",
            "3.510630126025205 \t\t\t 1.0\n",
            "3.610648129625925 \t\t\t 1.0\n",
            "3.710666133226645 \t\t\t 1.0\n",
            "3.8106841368273656 \t\t\t 1.0\n",
            "3.9107021404280857 \t\t\t 1.0\n",
            "4.010720144028806 \t\t\t 1.0\n",
            "4.110738147629526 \t\t\t 1.0\n",
            "4.210756151230246 \t\t\t 1.0\n",
            "4.310774154830966 \t\t\t 1.0\n",
            "4.410792158431686 \t\t\t 1.0\n",
            "4.510810162032406 \t\t\t 1.0\n",
            "4.6108281656331265 \t\t\t 1.0\n",
            "4.710846169233847 \t\t\t 1.0\n",
            "4.810864172834567 \t\t\t 1.0\n",
            "4.910882176435287 \t\t\t 1.0\n",
            "5.010900180036007 \t\t\t 1.0\n",
            "5.110918183636727 \t\t\t 1.0\n",
            "5.210936187237447 \t\t\t 1.0\n",
            "5.310954190838167 \t\t\t 1.0\n",
            "5.410972194438888 \t\t\t 1.0\n",
            "5.510990198039608 \t\t\t 1.0\n",
            "5.611008201640328 \t\t\t 1.0\n",
            "5.7110262052410485 \t\t\t 1.0\n",
            "5.811044208841769 \t\t\t 1.0\n",
            "5.911062212442489 \t\t\t 1.0\n",
            "6.011080216043209 \t\t\t 1.0\n",
            "6.111098219643929 \t\t\t 1.0\n",
            "6.211116223244649 \t\t\t 1.0\n",
            "6.311134226845369 \t\t\t 1.0\n",
            "6.411152230446089 \t\t\t 1.0\n",
            "6.511170234046809 \t\t\t 1.0\n",
            "6.6111882376475295 \t\t\t 1.0\n",
            "6.71120624124825 \t\t\t 1.0\n",
            "6.81122424484897 \t\t\t 1.0\n",
            "6.91124224844969 \t\t\t 1.0\n",
            "7.01126025205041 \t\t\t 1.0\n",
            "7.11127825565113 \t\t\t 1.0\n",
            "7.21129625925185 \t\t\t 1.0\n",
            "7.31131426285257 \t\t\t 1.0\n",
            "7.41133226645329 \t\t\t 1.0\n",
            "7.511350270054011 \t\t\t 1.0\n",
            "7.6113682736547315 \t\t\t 1.0\n",
            "7.711386277255452 \t\t\t 1.0\n",
            "7.811404280856172 \t\t\t 1.0\n",
            "7.911422284456892 \t\t\t 1.0\n",
            "8.011440288057612 \t\t\t 1.0\n",
            "8.111458291658332 \t\t\t 1.0\n",
            "8.211476295259052 \t\t\t 1.0\n",
            "8.311494298859772 \t\t\t 1.0\n",
            "8.411512302460492 \t\t\t 1.0\n",
            "8.511530306061212 \t\t\t 1.0\n",
            "8.611548309661933 \t\t\t 1.0\n",
            "8.711566313262653 \t\t\t 1.0\n",
            "8.811584316863373 \t\t\t 1.0\n",
            "8.911602320464093 \t\t\t 0.9333333333333333\n",
            "9.011620324064813 \t\t\t 0.9333333333333333\n",
            "9.111638327665533 \t\t\t 0.9333333333333333\n",
            "9.211656331266253 \t\t\t 0.9333333333333333\n",
            "9.311674334866973 \t\t\t 0.9333333333333333\n",
            "9.411692338467693 \t\t\t 0.9333333333333333\n",
            "9.511710342068413 \t\t\t 0.9333333333333333\n",
            "9.611728345669134 \t\t\t 0.9333333333333333\n",
            "9.711746349269854 \t\t\t 0.9333333333333333\n",
            "9.811764352870574 \t\t\t 0.9333333333333333\n",
            "9.911782356471294 \t\t\t 0.9333333333333333\n",
            "10.011800360072014 \t\t\t 0.9333333333333333\n",
            "10.111818363672734 \t\t\t 0.9333333333333333\n",
            "10.211836367273454 \t\t\t 0.9333333333333333\n",
            "10.311854370874174 \t\t\t 0.9333333333333333\n",
            "10.411872374474894 \t\t\t 0.9333333333333333\n",
            "10.511890378075615 \t\t\t 0.9333333333333333\n",
            "10.611908381676335 \t\t\t 0.9333333333333333\n",
            "10.711926385277057 \t\t\t 0.9333333333333333\n",
            "10.811944388877777 \t\t\t 0.9333333333333333\n",
            "10.911962392478497 \t\t\t 0.9333333333333333\n",
            "11.011980396079217 \t\t\t 0.9333333333333333\n",
            "11.111998399679937 \t\t\t 0.9333333333333333\n",
            "11.212016403280657 \t\t\t 0.9333333333333333\n",
            "11.312034406881377 \t\t\t 0.9333333333333333\n",
            "11.412052410482097 \t\t\t 0.9333333333333333\n",
            "11.512070414082817 \t\t\t 0.9333333333333333\n",
            "11.612088417683538 \t\t\t 0.9333333333333333\n",
            "11.712106421284258 \t\t\t 0.9333333333333333\n",
            "11.812124424884978 \t\t\t 0.9333333333333333\n",
            "11.912142428485698 \t\t\t 0.9333333333333333\n",
            "12.012160432086418 \t\t\t 0.9333333333333333\n",
            "12.112178435687138 \t\t\t 0.9333333333333333\n",
            "12.212196439287858 \t\t\t 0.9333333333333333\n",
            "12.312214442888578 \t\t\t 0.9333333333333333\n",
            "12.412232446489298 \t\t\t 0.9333333333333333\n",
            "12.512250450090018 \t\t\t 0.9333333333333333\n",
            "12.612268453690739 \t\t\t 0.9333333333333333\n",
            "12.712286457291459 \t\t\t 0.9333333333333333\n",
            "12.812304460892179 \t\t\t 0.9333333333333333\n",
            "12.912322464492899 \t\t\t 0.9333333333333333\n",
            "13.012340468093619 \t\t\t 0.9333333333333333\n",
            "13.112358471694339 \t\t\t 0.9333333333333333\n",
            "13.21237647529506 \t\t\t 0.9333333333333333\n",
            "13.31239447889578 \t\t\t 0.9333333333333333\n",
            "13.4124124824965 \t\t\t 0.9333333333333333\n",
            "13.51243048609722 \t\t\t 0.9333333333333333\n",
            "13.61244848969794 \t\t\t 0.9333333333333333\n",
            "13.71246649329866 \t\t\t 0.9333333333333333\n",
            "13.81248449689938 \t\t\t 0.9333333333333333\n",
            "13.9125025005001 \t\t\t 0.9333333333333333\n",
            "14.01252050410082 \t\t\t 0.9333333333333333\n",
            "14.11253850770154 \t\t\t 0.9333333333333333\n",
            "14.21255651130226 \t\t\t 0.9333333333333333\n",
            "14.31257451490298 \t\t\t 0.9333333333333333\n",
            "14.4125925185037 \t\t\t 0.9333333333333333\n",
            "14.51261052210442 \t\t\t 0.9333333333333333\n",
            "14.61262852570514 \t\t\t 0.9333333333333333\n",
            "14.71264652930586 \t\t\t 0.9333333333333333\n",
            "14.812664532906581 \t\t\t 0.9333333333333333\n",
            "14.912682536507301 \t\t\t 0.9333333333333333\n",
            "15.012700540108023 \t\t\t 0.9333333333333333\n",
            "15.112718543708743 \t\t\t 0.9333333333333333\n",
            "15.212736547309463 \t\t\t 0.9333333333333333\n",
            "15.312754550910183 \t\t\t 0.9333333333333333\n",
            "15.412772554510903 \t\t\t 0.9333333333333333\n",
            "15.512790558111623 \t\t\t 0.9333333333333333\n",
            "15.612808561712344 \t\t\t 0.9333333333333333\n",
            "15.712826565313064 \t\t\t 0.9333333333333333\n",
            "15.812844568913784 \t\t\t 0.9333333333333333\n",
            "15.912862572514504 \t\t\t 0.9333333333333333\n",
            "16.012880576115226 \t\t\t 0.9333333333333333\n",
            "16.112898579715946 \t\t\t 0.9333333333333333\n",
            "16.212916583316666 \t\t\t 0.9333333333333333\n",
            "16.312934586917386 \t\t\t 0.9333333333333333\n",
            "16.412952590518106 \t\t\t 0.9333333333333333\n",
            "16.512970594118826 \t\t\t 0.9333333333333333\n",
            "16.612988597719546 \t\t\t 0.9333333333333333\n",
            "16.713006601320266 \t\t\t 0.9333333333333333\n",
            "16.813024604920987 \t\t\t 0.9333333333333333\n",
            "16.913042608521707 \t\t\t 0.9333333333333333\n",
            "17.013060612122427 \t\t\t 0.9333333333333333\n",
            "17.113078615723147 \t\t\t 0.9333333333333333\n",
            "17.213096619323867 \t\t\t 0.9333333333333333\n",
            "17.313114622924587 \t\t\t 0.9333333333333333\n",
            "17.413132626525307 \t\t\t 0.9333333333333333\n",
            "17.513150630126027 \t\t\t 0.9333333333333333\n",
            "17.613168633726747 \t\t\t 0.9333333333333333\n",
            "17.713186637327468 \t\t\t 0.9333333333333333\n",
            "17.813204640928188 \t\t\t 0.9333333333333333\n",
            "17.913222644528908 \t\t\t 0.9333333333333333\n",
            "18.013240648129628 \t\t\t 0.9333333333333333\n",
            "18.113258651730348 \t\t\t 0.9333333333333333\n",
            "18.213276655331068 \t\t\t 0.9333333333333333\n",
            "18.313294658931788 \t\t\t 0.9333333333333333\n",
            "18.41331266253251 \t\t\t 0.9333333333333333\n",
            "18.51333066613323 \t\t\t 0.9333333333333333\n",
            "18.61334866973395 \t\t\t 0.9333333333333333\n",
            "18.71336667333467 \t\t\t 0.9333333333333333\n",
            "18.81338467693539 \t\t\t 0.9333333333333333\n",
            "18.91340268053611 \t\t\t 0.9333333333333333\n",
            "19.01342068413683 \t\t\t 0.9333333333333333\n",
            "19.11343868773755 \t\t\t 0.9333333333333333\n",
            "19.21345669133827 \t\t\t 0.9333333333333333\n",
            "19.31347469493899 \t\t\t 0.9333333333333333\n",
            "19.41349269853971 \t\t\t 0.9333333333333333\n",
            "19.51351070214043 \t\t\t 0.9333333333333333\n",
            "19.61352870574115 \t\t\t 0.9333333333333333\n",
            "19.71354670934187 \t\t\t 0.9333333333333333\n",
            "19.81356471294259 \t\t\t 0.9333333333333333\n",
            "19.91358271654331 \t\t\t 0.9333333333333333\n",
            "20.01360072014403 \t\t\t 0.9333333333333333\n",
            "20.11361872374475 \t\t\t 0.9333333333333333\n",
            "20.21363672734547 \t\t\t 0.9333333333333333\n",
            "20.31365473094619 \t\t\t 0.9333333333333333\n",
            "20.41367273454691 \t\t\t 0.9333333333333333\n",
            "20.51369073814763 \t\t\t 0.9333333333333333\n",
            "20.61370874174835 \t\t\t 0.9333333333333333\n",
            "20.71372674534907 \t\t\t 0.9333333333333333\n",
            "20.81374474894979 \t\t\t 0.9333333333333333\n",
            "20.91376275255051 \t\t\t 0.9333333333333333\n",
            "21.01378075615123 \t\t\t 0.9333333333333333\n",
            "21.11379875975195 \t\t\t 0.9333333333333333\n",
            "21.21381676335267 \t\t\t 0.9333333333333333\n",
            "21.31383476695339 \t\t\t 0.9333333333333333\n",
            "21.413852770554115 \t\t\t 0.9333333333333333\n",
            "21.513870774154835 \t\t\t 0.9333333333333333\n",
            "21.613888777755555 \t\t\t 0.9333333333333333\n",
            "21.713906781356275 \t\t\t 0.9333333333333333\n",
            "21.813924784956995 \t\t\t 0.9333333333333333\n",
            "21.913942788557716 \t\t\t 0.8666666666666667\n",
            "22.013960792158436 \t\t\t 0.8666666666666667\n",
            "22.113978795759156 \t\t\t 0.8666666666666667\n",
            "22.213996799359876 \t\t\t 0.8666666666666667\n",
            "22.314014802960596 \t\t\t 0.8666666666666667\n",
            "22.414032806561316 \t\t\t 0.8666666666666667\n",
            "22.514050810162036 \t\t\t 0.8666666666666667\n",
            "22.614068813762756 \t\t\t 0.8666666666666667\n",
            "22.714086817363476 \t\t\t 0.8666666666666667\n",
            "22.814104820964197 \t\t\t 0.8666666666666667\n",
            "22.914122824564917 \t\t\t 0.8666666666666667\n",
            "23.014140828165637 \t\t\t 0.8666666666666667\n",
            "23.114158831766357 \t\t\t 0.8666666666666667\n",
            "23.214176835367077 \t\t\t 0.8666666666666667\n",
            "23.314194838967797 \t\t\t 0.8666666666666667\n",
            "23.414212842568517 \t\t\t 0.8666666666666667\n",
            "23.514230846169237 \t\t\t 0.8666666666666667\n",
            "23.614248849769957 \t\t\t 0.8666666666666667\n",
            "23.714266853370678 \t\t\t 0.8666666666666667\n",
            "23.814284856971398 \t\t\t 0.8666666666666667\n",
            "23.914302860572118 \t\t\t 0.8666666666666667\n",
            "24.014320864172838 \t\t\t 0.8666666666666667\n",
            "24.114338867773558 \t\t\t 0.8666666666666667\n",
            "24.214356871374278 \t\t\t 0.8666666666666667\n",
            "24.314374874974998 \t\t\t 0.8666666666666667\n",
            "24.41439287857572 \t\t\t 0.8666666666666667\n",
            "24.51441088217644 \t\t\t 0.8666666666666667\n",
            "24.61442888577716 \t\t\t 0.8666666666666667\n",
            "24.71444688937788 \t\t\t 0.8666666666666667\n",
            "24.8144648929786 \t\t\t 0.8666666666666667\n",
            "24.91448289657932 \t\t\t 0.8666666666666667\n",
            "25.01450090018004 \t\t\t 0.8666666666666667\n",
            "25.11451890378076 \t\t\t 0.8666666666666667\n",
            "25.21453690738148 \t\t\t 0.8666666666666667\n",
            "25.3145549109822 \t\t\t 0.8666666666666667\n",
            "25.41457291458292 \t\t\t 0.8666666666666667\n",
            "25.51459091818364 \t\t\t 0.8666666666666667\n",
            "25.61460892178436 \t\t\t 0.8666666666666667\n",
            "25.71462692538508 \t\t\t 0.8666666666666667\n",
            "25.8146449289858 \t\t\t 0.8666666666666667\n",
            "25.91466293258652 \t\t\t 0.8666666666666667\n",
            "26.01468093618724 \t\t\t 0.8666666666666667\n",
            "26.11469893978796 \t\t\t 0.8666666666666667\n",
            "26.21471694338868 \t\t\t 0.8666666666666667\n",
            "26.3147349469894 \t\t\t 0.8666666666666667\n",
            "26.41475295059012 \t\t\t 0.8666666666666667\n",
            "26.51477095419084 \t\t\t 0.8666666666666667\n",
            "26.61478895779156 \t\t\t 0.8666666666666667\n",
            "26.71480696139228 \t\t\t 0.8666666666666667\n",
            "26.814824964993 \t\t\t 0.8666666666666667\n",
            "26.91484296859372 \t\t\t 0.8666666666666667\n",
            "27.01486097219444 \t\t\t 0.8666666666666667\n",
            "27.11487897579516 \t\t\t 0.8666666666666667\n",
            "27.21489697939588 \t\t\t 0.8666666666666667\n",
            "27.3149149829966 \t\t\t 0.8666666666666667\n",
            "27.41493298659732 \t\t\t 0.8666666666666667\n",
            "27.51495099019804 \t\t\t 0.8666666666666667\n",
            "27.61496899379876 \t\t\t 0.8666666666666667\n",
            "27.714986997399482 \t\t\t 0.8666666666666667\n",
            "27.815005001000202 \t\t\t 0.8666666666666667\n",
            "27.915023004600922 \t\t\t 0.8666666666666667\n",
            "28.015041008201642 \t\t\t 0.8666666666666667\n",
            "28.115059011802362 \t\t\t 0.8666666666666667\n",
            "28.215077015403082 \t\t\t 0.8666666666666667\n",
            "28.315095019003802 \t\t\t 0.8666666666666667\n",
            "28.415113022604523 \t\t\t 0.8666666666666667\n",
            "28.515131026205243 \t\t\t 0.8666666666666667\n",
            "28.615149029805963 \t\t\t 0.8666666666666667\n",
            "28.715167033406683 \t\t\t 0.8666666666666667\n",
            "28.815185037007403 \t\t\t 0.8666666666666667\n",
            "28.915203040608123 \t\t\t 0.8666666666666667\n",
            "29.015221044208843 \t\t\t 0.8666666666666667\n",
            "29.115239047809563 \t\t\t 0.8\n",
            "29.215257051410283 \t\t\t 0.8\n",
            "29.315275055011004 \t\t\t 0.8\n",
            "29.415293058611724 \t\t\t 0.8\n",
            "29.515311062212444 \t\t\t 0.8\n",
            "29.615329065813164 \t\t\t 0.8\n",
            "29.715347069413884 \t\t\t 0.8\n",
            "29.815365073014604 \t\t\t 0.8\n",
            "29.915383076615328 \t\t\t 0.8\n",
            "30.015401080216048 \t\t\t 0.8\n",
            "30.115419083816768 \t\t\t 0.8\n",
            "30.215437087417488 \t\t\t 0.8\n",
            "30.315455091018208 \t\t\t 0.8\n",
            "30.41547309461893 \t\t\t 0.8\n",
            "30.51549109821965 \t\t\t 0.8\n",
            "30.61550910182037 \t\t\t 0.8\n",
            "30.71552710542109 \t\t\t 0.8\n",
            "30.81554510902181 \t\t\t 0.8\n",
            "30.91556311262253 \t\t\t 0.8\n",
            "31.01558111622325 \t\t\t 0.8\n",
            "31.11559911982397 \t\t\t 0.8\n",
            "31.21561712342469 \t\t\t 0.8\n",
            "31.31563512702541 \t\t\t 0.8\n",
            "31.41565313062613 \t\t\t 0.7333333333333333\n",
            "31.51567113422685 \t\t\t 0.7333333333333333\n",
            "31.61568913782757 \t\t\t 0.7333333333333333\n",
            "31.71570714142829 \t\t\t 0.7333333333333333\n",
            "31.81572514502901 \t\t\t 0.7333333333333333\n",
            "31.91574314862973 \t\t\t 0.7333333333333333\n",
            "32.015761152230446 \t\t\t 0.7333333333333333\n",
            "32.11577915583116 \t\t\t 0.7333333333333333\n",
            "32.21579715943189 \t\t\t 0.7333333333333333\n",
            "32.3158151630326 \t\t\t 0.7333333333333333\n",
            "32.41583316663333 \t\t\t 0.7333333333333333\n",
            "32.51585117023404 \t\t\t 0.7333333333333333\n",
            "32.61586917383477 \t\t\t 0.7333333333333333\n",
            "32.715887177435484 \t\t\t 0.7333333333333333\n",
            "32.81590518103621 \t\t\t 0.7333333333333333\n",
            "32.915923184636924 \t\t\t 0.7333333333333333\n",
            "33.01594118823765 \t\t\t 0.7333333333333333\n",
            "33.115959191838364 \t\t\t 0.7333333333333333\n",
            "33.21597719543909 \t\t\t 0.6666666666666666\n",
            "33.315995199039804 \t\t\t 0.6666666666666666\n",
            "33.41601320264053 \t\t\t 0.6666666666666666\n",
            "33.516031206241244 \t\t\t 0.6666666666666666\n",
            "33.61604920984197 \t\t\t 0.6666666666666666\n",
            "33.716067213442685 \t\t\t 0.6666666666666666\n",
            "33.81608521704341 \t\t\t 0.6666666666666666\n",
            "33.916103220644125 \t\t\t 0.6666666666666666\n",
            "34.01612122424485 \t\t\t 0.6\n",
            "34.116139227845565 \t\t\t 0.6\n",
            "34.21615723144629 \t\t\t 0.6\n",
            "34.31617523504701 \t\t\t 0.6\n",
            "34.41619323864773 \t\t\t 0.6\n",
            "34.51621124224845 \t\t\t 0.6\n",
            "34.61622924584917 \t\t\t 0.6\n",
            "34.71624724944989 \t\t\t 0.6\n",
            "34.81626525305061 \t\t\t 0.6\n",
            "34.91628325665133 \t\t\t 0.6\n",
            "35.01630126025205 \t\t\t 0.6\n",
            "35.11631926385277 \t\t\t 0.6\n",
            "35.21633726745349 \t\t\t 0.6\n",
            "35.31635527105421 \t\t\t 0.6\n",
            "35.41637327465493 \t\t\t 0.6\n",
            "35.516391278255654 \t\t\t 0.6\n",
            "35.61640928185637 \t\t\t 0.6\n",
            "35.716427285457094 \t\t\t 0.6\n",
            "35.81644528905781 \t\t\t 0.6\n",
            "35.916463292658534 \t\t\t 0.6\n",
            "36.01648129625925 \t\t\t 0.6\n",
            "36.116499299859974 \t\t\t 0.6\n",
            "36.21651730346069 \t\t\t 0.6\n",
            "36.316535307061415 \t\t\t 0.6\n",
            "36.41655331066213 \t\t\t 0.6\n",
            "36.516571314262855 \t\t\t 0.6\n",
            "36.61658931786357 \t\t\t 0.6\n",
            "36.716607321464295 \t\t\t 0.6\n",
            "36.81662532506501 \t\t\t 0.6\n",
            "36.916643328665735 \t\t\t 0.6\n",
            "37.01666133226645 \t\t\t 0.6\n",
            "37.116679335867175 \t\t\t 0.6\n",
            "37.21669733946789 \t\t\t 0.6\n",
            "37.316715343068616 \t\t\t 0.6\n",
            "37.41673334666933 \t\t\t 0.6\n",
            "37.516751350270056 \t\t\t 0.6\n",
            "37.61676935387077 \t\t\t 0.6\n",
            "37.716787357471496 \t\t\t 0.6\n",
            "37.81680536107221 \t\t\t 0.6\n",
            "37.916823364672936 \t\t\t 0.6\n",
            "38.01684136827365 \t\t\t 0.6\n",
            "38.11685937187438 \t\t\t 0.6\n",
            "38.21687737547509 \t\t\t 0.6\n",
            "38.31689537907582 \t\t\t 0.6\n",
            "38.41691338267653 \t\t\t 0.6\n",
            "38.51693138627726 \t\t\t 0.6\n",
            "38.61694938987797 \t\t\t 0.6\n",
            "38.7169673934787 \t\t\t 0.6\n",
            "38.816985397079414 \t\t\t 0.6\n",
            "38.91700340068014 \t\t\t 0.6\n",
            "39.017021404280854 \t\t\t 0.6\n",
            "39.11703940788158 \t\t\t 0.6\n",
            "39.217057411482294 \t\t\t 0.6\n",
            "39.31707541508302 \t\t\t 0.6\n",
            "39.417093418683734 \t\t\t 0.6\n",
            "39.51711142228446 \t\t\t 0.6\n",
            "39.617129425885174 \t\t\t 0.6\n",
            "39.7171474294859 \t\t\t 0.6\n",
            "39.817165433086615 \t\t\t 0.6\n",
            "39.91718343668734 \t\t\t 0.6\n",
            "40.017201440288055 \t\t\t 0.6\n",
            "40.11721944388878 \t\t\t 0.6\n",
            "40.217237447489495 \t\t\t 0.6\n",
            "40.31725545109022 \t\t\t 0.6\n",
            "40.417273454690935 \t\t\t 0.6\n",
            "40.51729145829166 \t\t\t 0.6\n",
            "40.617309461892376 \t\t\t 0.6\n",
            "40.7173274654931 \t\t\t 0.6\n",
            "40.817345469093816 \t\t\t 0.6\n",
            "40.91736347269454 \t\t\t 0.6\n",
            "41.017381476295256 \t\t\t 0.6\n",
            "41.11739947989598 \t\t\t 0.6\n",
            "41.217417483496696 \t\t\t 0.6\n",
            "41.31743548709742 \t\t\t 0.6\n",
            "41.417453490698136 \t\t\t 0.6\n",
            "41.51747149429886 \t\t\t 0.6\n",
            "41.61748949789958 \t\t\t 0.6\n",
            "41.7175075015003 \t\t\t 0.6\n",
            "41.81752550510102 \t\t\t 0.6\n",
            "41.91754350870174 \t\t\t 0.6\n",
            "42.01756151230246 \t\t\t 0.6\n",
            "42.11757951590318 \t\t\t 0.6\n",
            "42.2175975195039 \t\t\t 0.6\n",
            "42.31761552310462 \t\t\t 0.6\n",
            "42.41763352670534 \t\t\t 0.6\n",
            "42.51765153030606 \t\t\t 0.6\n",
            "42.61766953390678 \t\t\t 0.6\n",
            "42.7176875375075 \t\t\t 0.6\n",
            "42.817705541108225 \t\t\t 0.6\n",
            "42.91772354470894 \t\t\t 0.6\n",
            "43.017741548309665 \t\t\t 0.6\n",
            "43.11775955191038 \t\t\t 0.6\n",
            "43.217777555511105 \t\t\t 0.6\n",
            "43.31779555911182 \t\t\t 0.6\n",
            "43.417813562712546 \t\t\t 0.6\n",
            "43.51783156631326 \t\t\t 0.6\n",
            "43.617849569913986 \t\t\t 0.6\n",
            "43.7178675735147 \t\t\t 0.6\n",
            "43.817885577115426 \t\t\t 0.6\n",
            "43.91790358071614 \t\t\t 0.6\n",
            "44.017921584316866 \t\t\t 0.6\n",
            "44.11793958791758 \t\t\t 0.6\n",
            "44.21795759151831 \t\t\t 0.6\n",
            "44.31797559511902 \t\t\t 0.6\n",
            "44.41799359871975 \t\t\t 0.6\n",
            "44.51801160232046 \t\t\t 0.6\n",
            "44.61802960592119 \t\t\t 0.6\n",
            "44.7180476095219 \t\t\t 0.6\n",
            "44.81806561312263 \t\t\t 0.6\n",
            "44.918083616723344 \t\t\t 0.6\n",
            "45.01810162032407 \t\t\t 0.6\n",
            "45.118119623924784 \t\t\t 0.6\n",
            "45.21813762752551 \t\t\t 0.6\n",
            "45.318155631126224 \t\t\t 0.6\n",
            "45.41817363472695 \t\t\t 0.6\n",
            "45.518191638327664 \t\t\t 0.6\n",
            "45.61820964192839 \t\t\t 0.6\n",
            "45.718227645529105 \t\t\t 0.6\n",
            "45.81824564912983 \t\t\t 0.6\n",
            "45.918263652730545 \t\t\t 0.6\n",
            "46.01828165633127 \t\t\t 0.6\n",
            "46.118299659931985 \t\t\t 0.6\n",
            "46.21831766353271 \t\t\t 0.6\n",
            "46.318335667133425 \t\t\t 0.6\n",
            "46.41835367073415 \t\t\t 0.6\n",
            "46.518371674334865 \t\t\t 0.6\n",
            "46.61838967793559 \t\t\t 0.6\n",
            "46.718407681536306 \t\t\t 0.6\n",
            "46.81842568513703 \t\t\t 0.6\n",
            "46.918443688737746 \t\t\t 0.6\n",
            "47.01846169233847 \t\t\t 0.6\n",
            "47.118479695939186 \t\t\t 0.6\n",
            "47.21849769953991 \t\t\t 0.6\n",
            "47.318515703140626 \t\t\t 0.6\n",
            "47.41853370674135 \t\t\t 0.6\n",
            "47.51855171034207 \t\t\t 0.6\n",
            "47.61856971394279 \t\t\t 0.6\n",
            "47.71858771754351 \t\t\t 0.6\n",
            "47.81860572114423 \t\t\t 0.6\n",
            "47.91862372474495 \t\t\t 0.6\n",
            "48.01864172834567 \t\t\t 0.6\n",
            "48.11865973194639 \t\t\t 0.6\n",
            "48.21867773554711 \t\t\t 0.6\n",
            "48.31869573914783 \t\t\t 0.6\n",
            "48.41871374274855 \t\t\t 0.6\n",
            "48.51873174634927 \t\t\t 0.6\n",
            "48.61874974994999 \t\t\t 0.6\n",
            "48.71876775355071 \t\t\t 0.6\n",
            "48.81878575715143 \t\t\t 0.6\n",
            "48.91880376075215 \t\t\t 0.6\n",
            "49.01882176435287 \t\t\t 0.6\n",
            "49.11883976795359 \t\t\t 0.6\n",
            "49.21885777155431 \t\t\t 0.6\n",
            "49.31887577515503 \t\t\t 0.6\n",
            "49.41889377875575 \t\t\t 0.6\n",
            "49.51891178235647 \t\t\t 0.6\n",
            "49.61892978595719 \t\t\t 0.6\n",
            "49.71894778955791 \t\t\t 0.6\n",
            "49.81896579315863 \t\t\t 0.6\n",
            "49.91898379675935 \t\t\t 0.6\n"
          ]
        }
      ]
    },
    {
      "cell_type": "code",
      "metadata": {
        "id": "odcWkgcEEqpC",
        "outputId": "33d51910-66ab-417c-8add-7bc8ca2acc4b"
      },
      "source": [
        "estimators = []\n",
        "for gamma in np.linspace(0.00001, 0.4, 100):\n",
        "    estimators.append([SVC(kernel='sigmoid', gamma=gamma, coef0=beta) for beta in np.linspace(0, 10, 100)])\n",
        "# gamma = []\n",
        "accuracy = []\n",
        "count = 0\n",
        "for list_of_common_gamma_models in estimators:\n",
        "#     gamma.append(model.gamma)\n",
        "#     accuracy.append(model.fit(X_train, y_train).score(X_test, y_test))\n",
        "    accuracy.append([model.fit(X_train, y_train).score(X_test, y_test) for model in list_of_common_gamma_models])\n",
        "    print(count, end=' ')\n",
        "    count += 1\n",
        "#     print(\"degree=\", model.gamma, \"| accuracy=\", model.fit(X_train, y_train).score(X_test, y_test))"
      ],
      "execution_count": null,
      "outputs": [
        {
          "name": "stdout",
          "output_type": "stream",
          "text": [
            "0 1 2 3 4 5 6 7 8 9 10 11 12 13 14 15 16 17 18 19 20 21 22 23 24 25 26 27 28 29 30 31 32 33 34 35 36 37 38 39 40 41 42 43 44 45 46 47 48 49 50 51 52 53 54 55 56 57 58 59 60 61 62 63 64 65 66 67 68 69 70 71 72 73 74 75 76 77 78 79 80 81 82 83 84 85 86 87 88 89 90 91 92 93 94 95 96 97 98 99 "
          ]
        }
      ]
    },
    {
      "cell_type": "code",
      "metadata": {
        "id": "_wEae46KEqpC"
      },
      "source": [
        "plot_points = np.array(accuracy)"
      ],
      "execution_count": null,
      "outputs": []
    },
    {
      "cell_type": "code",
      "metadata": {
        "id": "A7JEnqIiEqpC",
        "outputId": "2a57293e-7cb7-4003-f786-56bbb951476f"
      },
      "source": [
        "plot_points.shape"
      ],
      "execution_count": null,
      "outputs": [
        {
          "data": {
            "text/plain": [
              "(100, 100)"
            ]
          },
          "execution_count": 63,
          "metadata": {},
          "output_type": "execute_result"
        }
      ]
    },
    {
      "cell_type": "code",
      "metadata": {
        "id": "PaGAA1cyEqpC",
        "outputId": "a1625bfc-a978-4595-907f-651e5bf6d658"
      },
      "source": [
        "listy = [(0.008, 0.8),\n",
        "        (0.012, 1.2),\n",
        "        (0.024, 2.4)]\n",
        "\n",
        "for gamma, beta in listy:\n",
        "    print(SVC(kernel='sigmoid', gamma=gamma, coef0=beta).fit(X_train, y_train).score(X_test, y_test))"
      ],
      "execution_count": null,
      "outputs": [
        {
          "name": "stdout",
          "output_type": "stream",
          "text": [
            "1.0\n",
            "0.5333333333333333\n",
            "0.4\n"
          ]
        }
      ]
    },
    {
      "cell_type": "code",
      "metadata": {
        "scrolled": false,
        "id": "99hL5ryKEqpD",
        "outputId": "6f8c8399-ec52-48f0-a700-c7e5ee20a9ed"
      },
      "source": [
        "plt.rcParams['figure.figsize'] = 10, 10\n",
        "# _, ax = plt.subplots(1,1)\n",
        "sns.heatmap(plot_points)"
      ],
      "execution_count": null,
      "outputs": [
        {
          "data": {
            "text/plain": [
              "<matplotlib.axes._subplots.AxesSubplot at 0x7f1aeb462240>"
            ]
          },
          "execution_count": 73,
          "metadata": {},
          "output_type": "execute_result"
        },
        {
          "data": {
            "image/png": "[encoded data removed]",
            "text/plain": [
              "<Figure size 720x720 with 2 Axes>"
            ]
          },
          "metadata": {},
          "output_type": "display_data"
        }
      ]
    },
    {
      "cell_type": "markdown",
      "metadata": {
        "id": "q13iGDLkEqpD"
      },
      "source": [
        "# MNIST <br>\n",
        "\n",
        "train_data.shape = 42000 x 784\n",
        "train:test = 9:1 <br>\n",
        "for time restriction purposes, limited train to 4000 samples <br>\n",
        "(b) svc, kernel='linear', max_iter=4215 <br>\n",
        "(c) shape of weights = (45, 784) <br>\n",
        "    shape of intercept = (45,) <br>\n",
        "    => 45 hyperplanes <br>\n",
        "    \n",
        "    classifier accuracy = 90.78%\n",
        "\n",
        "# IRIS<br>\n",
        "\n",
        "(d) Accuracy = 100% for all degrees in [4, 5, 8]\n",
        "\n",
        "(e) Graph shows trend: Accuracy decreases (non-monotonically) with increase in gamma. Accuracy peaks to 100% for gamma = (0.7 ... 8.8) <br>\n",
        "\n",
        "(f) (gamma, beta)= accuracy\n",
        "    (0.008, 0.8) = 1.0\n",
        "    (0.012, 1.2) = 0.5333\n",
        "    (0.024, 2.4) = 0.4\n",
        "\n",
        "\n",
        "1.0\n",
        "0.5333333333333333\n",
        "0.4"
      ]
    }
  ]
}